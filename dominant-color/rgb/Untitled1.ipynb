{
 "cells": [
  {
   "cell_type": "code",
   "execution_count": 1,
   "metadata": {},
   "outputs": [],
   "source": [
    "import numpy as np\n",
    "import matplotlib.pyplot as plt\n",
    "\n",
    "import cv2"
   ]
  },
  {
   "cell_type": "code",
   "execution_count": 2,
   "metadata": {},
   "outputs": [],
   "source": [
    "def importImage(imdir):\n",
    "    \n",
    "    im_array = plt.imread(imdir)\n",
    "    im_array = (im_array * 255).astype(np.float32)\n",
    "    im_array = im_array[:,:,:3]\n",
    "\n",
    "    height = np.shape(im_array)[0]\n",
    "    width = np.shape(im_array)[1]\n",
    "    \n",
    "    channels = np.shape(im_array)[2]\n",
    "    \n",
    "    return im_array, width, height, channels"
   ]
  },
  {
   "cell_type": "code",
   "execution_count": 3,
   "metadata": {},
   "outputs": [
    {
     "name": "stdout",
     "output_type": "stream",
     "text": [
      "image :  (100, 100, 3)\n"
     ]
    }
   ],
   "source": [
    "image_dir = \"./triangles-rgb.png\"\n",
    "image0, width, height, channels = importImage(image_dir)\n",
    "print(\"image : \", np.shape(image0))"
   ]
  },
  {
   "cell_type": "code",
   "execution_count": 4,
   "metadata": {},
   "outputs": [
    {
     "name": "stdout",
     "output_type": "stream",
     "text": [
      "data :  (10000, 3)\n"
     ]
    }
   ],
   "source": [
    "data = np.reshape(image0, (height*width, 3))\n",
    "data0 = np.copy( data )\n",
    "print(\"data : \", np.shape(data0))"
   ]
  },
  {
   "cell_type": "code",
   "execution_count": 22,
   "metadata": {},
   "outputs": [
    {
     "data": {
      "text/plain": [
       "<matplotlib.image.AxesImage at 0x7f02a181f730>"
      ]
     },
     "execution_count": 22,
     "metadata": {},
     "output_type": "execute_result"
    },
    {
     "data": {
      "image/png": "[encoded data removed]",
      "text/plain": [
       "<Figure size 1080x504 with 1 Axes>"
      ]
     },
     "metadata": {
      "needs_background": "light"
     },
     "output_type": "display_data"
    }
   ],
   "source": [
    "ret,label,center=cv2.kmeans(data=data0,\n",
    "                            K=3,\n",
    "                            bestLabels=None,\n",
    "                            criteria=(cv2.TERM_CRITERIA_EPS + cv2.TERM_CRITERIA_MAX_ITER, 10, 0),\n",
    "                            attempts=1,\n",
    "                            flags=cv2.KMEANS_RANDOM_CENTERS)\n",
    "\n",
    "center = np.uint8(center)\n",
    "res = center[label.flatten()]\n",
    "res2 = res.reshape((data.shape))\n",
    "\n",
    "cenas = np.reshape(res2, (100,100,3))\n",
    "\n",
    "fig = plt.figure(figsize=(15,7), frameon=False)\n",
    "\n",
    "ax = plt.Axes(fig, [0., 0., 1., 1.])\n",
    "ax.set_axis_off()\n",
    "fig.add_axes(ax)\n",
    "\n",
    "ax.imshow(cenas, aspect='equal')"
   ]
  },
  {
   "cell_type": "code",
   "execution_count": null,
   "metadata": {},
   "outputs": [],
   "source": [
    "ret,label,center=cv2.kmeans(data=data0,\n",
    "                            K=3,\n",
    "                            bestLabels=np.random.randint(3, size=(data.shape[0] * data.shape[1], 1), dtype=np.int32),\n",
    "                            criteria=(cv2.TERM_CRITERIA_EPS + cv2.TERM_CRITERIA_MAX_ITER, 10, 0),\n",
    "                            attempts=1,\n",
    "                            flags=cv2.KMEANS_USE_INITIAL_LABELS,\n",
    "                            centers = np.array([[255,0,0],[0,255,0],[0,0,255]], dtype=np.float32))\n",
    "\n",
    "center = np.uint8(center)\n",
    "res = center[label.flatten()]\n",
    "res2 = res.reshape((data.shape))\n",
    "\n",
    "cenas = np.reshape(res2, (100,100,3))\n",
    "\n",
    "fig = plt.figure(figsize=(15,7), frameon=False)\n",
    "\n",
    "ax = plt.Axes(fig, [0., 0., 1., 1.])\n",
    "ax.set_axis_off()\n",
    "fig.add_axes(ax)\n",
    "\n",
    "ax.imshow(cenas, aspect='equal')"
   ]
  },
  {
   "cell_type": "code",
   "execution_count": null,
   "metadata": {},
   "outputs": [],
   "source": []
  },
  {
   "cell_type": "code",
   "execution_count": null,
   "metadata": {},
   "outputs": [],
   "source": []
  }
 ],
 "metadata": {
  "kernelspec": {
   "display_name": "ohm-ambilight",
   "language": "python",
   "name": "ohm-ambilight"
  },
  "language_info": {
   "codemirror_mode": {
    "name": "ipython",
    "version": 3
   },
   "file_extension": ".py",
   "mimetype": "text/x-python",
   "name": "python",
   "nbconvert_exporter": "python",
   "pygments_lexer": "ipython3",
   "version": "3.8.3"
  }
 },
 "nbformat": 4,
 "nbformat_minor": 4
}
