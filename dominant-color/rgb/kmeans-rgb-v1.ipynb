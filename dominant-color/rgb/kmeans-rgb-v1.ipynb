{
 "cells": [
  {
   "cell_type": "code",
   "execution_count": 1,
   "metadata": {},
   "outputs": [],
   "source": [
    "import numpy as np\n",
    "import matplotlib.pyplot as plt"
   ]
  },
  {
   "cell_type": "code",
   "execution_count": 2,
   "metadata": {},
   "outputs": [],
   "source": [
    "def importImage(dir):\n",
    "    \n",
    "    im_array = plt.imread(\"wallpaper.png\")\n",
    "    im_array = (im_array * 255).astype(int)\n",
    "\n",
    "    height = np.shape(im_array)[0]\n",
    "    width = np.shape(im_array)[1]\n",
    "    \n",
    "    channels = np.shape(im_array)[2]\n",
    "    \n",
    "    return im_array, width, height, channels"
   ]
  },
  {
   "cell_type": "code",
   "execution_count": 3,
   "metadata": {},
   "outputs": [
    {
     "name": "stdout",
     "output_type": "stream",
     "text": [
      "image :  (922, 1920, 3)\n"
     ]
    }
   ],
   "source": [
    "image_dir = \"./rgb.png\"\n",
    "original, width, height, channels = importImage(image_dir)\n",
    "original = original[:,:,:3]\n",
    "print(\"image : \", np.shape(original))"
   ]
  },
  {
   "cell_type": "code",
   "execution_count": 4,
   "metadata": {},
   "outputs": [],
   "source": [
    "def euclidDist(point1, point2):\n",
    "    ss = 0\n",
    "    for i, j in zip(point1, point2):\n",
    "        ss += np.power( (i-j), 2 )\n",
    "        \n",
    "    return np.sqrt(ss)"
   ]
  },
  {
   "cell_type": "code",
   "execution_count": 5,
   "metadata": {},
   "outputs": [],
   "source": [
    "def getClosest(point, array):\n",
    "    dists = []\n",
    "    for target in array:\n",
    "        dists.append( euclidDist(point, target) )\n",
    "    closest_index = np.argmin(dists)\n",
    "    return array[closest_index]"
   ]
  },
  {
   "cell_type": "code",
   "execution_count": 6,
   "metadata": {},
   "outputs": [],
   "source": [
    "def createMeans(image, k):\n",
    "    means = []\n",
    "    for i in range(k):\n",
    "        yy = np.random.randint(0, height)\n",
    "        xx = np.random.randint(0, width)\n",
    "        means.append( image[yy,xx,:] )\n",
    "    return np.asarray(means)"
   ]
  },
  {
   "cell_type": "code",
   "execution_count": 7,
   "metadata": {},
   "outputs": [],
   "source": [
    "def getClusters(original, means):\n",
    "    clusters = np.zeros(np.shape(original), dtype=int)\n",
    "    \n",
    "    for yy in range(height):\n",
    "        for xx in range(width):\n",
    "            clusters[yy, xx] = getClosest(original[yy, xx], means)\n",
    "            \n",
    "    return clusters"
   ]
  },
  {
   "cell_type": "code",
   "execution_count": 8,
   "metadata": {},
   "outputs": [],
   "source": [
    "def getMeans(current, original, means):\n",
    "    new_means = []\n",
    "    for centroid in means:\n",
    "        \n",
    "        summ = np.zeros(3, dtype=int)\n",
    "        count = 0\n",
    "        for cur_yy, or_yy in zip(current, original):\n",
    "            for cur_xx, or_xx in zip(cur_yy, or_yy):\n",
    "                if (cur_xx == centroid).all():\n",
    "                    summ += or_xx\n",
    "                    count += 1\n",
    "        \n",
    "        new_means.append( (summ/count).astype(int) )\n",
    "        \n",
    "    return np.asarray(new_means)"
   ]
  },
  {
   "cell_type": "code",
   "execution_count": null,
   "metadata": {},
   "outputs": [
    {
     "name": "stdout",
     "output_type": "stream",
     "text": [
      "k =  3 \n",
      "\n",
      "means ; (3, 3) ; <class 'numpy.ndarray'>\n",
      "[[ 30  29  35]\n",
      " [150 179 113]\n",
      " [ 84 102 122]] \n",
      "\n",
      "iter : 0\n"
     ]
    }
   ],
   "source": [
    "k = 3\n",
    "print(\"k = \", k, \"\\n\")\n",
    "\n",
    "means = createMeans(original, k)\n",
    "#means = np.array([[255, 0, 0], [0, 255, 0], [0, 0, 255], [255, 255, 0]])\n",
    "print(\"means ;\", np.shape(means), \";\", type(means))\n",
    "print(means, \"\\n\")\n",
    "\n",
    "max_iterations = 5\n",
    "i = 0\n",
    "while i < max_iterations:\n",
    "    print(\"iter :\", i)\n",
    "    current = getClusters(original, means)\n",
    "    \n",
    "    means = getMeans(current, original, means)\n",
    "    i += 1"
   ]
  },
  {
   "cell_type": "code",
   "execution_count": null,
   "metadata": {},
   "outputs": [],
   "source": [
    "f, (ax1, ax2) = plt.subplots(1, 2, figsize = (10, 5))\n",
    "ax1.imshow((original/255), aspect = \"equal\" )\n",
    "ax2.imshow((current/255), aspect = \"equal\")"
   ]
  },
  {
   "cell_type": "code",
   "execution_count": null,
   "metadata": {},
   "outputs": [],
   "source": [
    "fig = plt.figure(frameon=False)\n",
    "\n",
    "ax = plt.Axes(fig, [0., 0., 1., 1.])\n",
    "ax.set_axis_off()\n",
    "fig.add_axes(ax)\n",
    "\n",
    "ax.imshow((current/255), aspect='equal')\n",
    "fig.savefig(\"wallpaper-clusters.png\")"
   ]
  },
  {
   "cell_type": "code",
   "execution_count": null,
   "metadata": {},
   "outputs": [],
   "source": []
  }
 ],
 "metadata": {
  "kernelspec": {
   "display_name": "ohm-ambilight",
   "language": "python",
   "name": "ohm-ambilight"
  },
  "language_info": {
   "codemirror_mode": {
    "name": "ipython",
    "version": 3
   },
   "file_extension": ".py",
   "mimetype": "text/x-python",
   "name": "python",
   "nbconvert_exporter": "python",
   "pygments_lexer": "ipython3",
   "version": "3.8.3"
  }
 },
 "nbformat": 4,
 "nbformat_minor": 4
}
