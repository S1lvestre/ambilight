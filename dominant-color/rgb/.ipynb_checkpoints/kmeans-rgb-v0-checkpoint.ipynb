{
 "cells": [
  {
   "cell_type": "code",
   "execution_count": 1,
   "metadata": {},
   "outputs": [],
   "source": [
    "import numpy as np\n",
    "import matplotlib.pyplot as plt"
   ]
  },
  {
   "cell_type": "code",
   "execution_count": 2,
   "metadata": {},
   "outputs": [],
   "source": [
    "def importImage(dir):\n",
    "    \n",
    "    im_array = plt.imread(\"rgb.png\")\n",
    "    im_array = (im_array * 255).astype(int)\n",
    "\n",
    "    width = np.shape(im_array)[0]\n",
    "    height = np.shape(im_array)[1]\n",
    "\n",
    "    return im_array, width, height"
   ]
  },
  {
   "cell_type": "code",
   "execution_count": 3,
   "metadata": {},
   "outputs": [
    {
     "name": "stdout",
     "output_type": "stream",
     "text": [
      "image :  (100, 100, 4)\n"
     ]
    }
   ],
   "source": [
    "image_dir = \"./rgb.png\"\n",
    "original, width, height = importImage(image_dir)\n",
    "\n",
    "print(\"image : \", np.shape(original))\n",
    "\n",
    "k = 5"
   ]
  },
  {
   "cell_type": "code",
   "execution_count": 4,
   "metadata": {},
   "outputs": [
    {
     "name": "stdout",
     "output_type": "stream",
     "text": [
      "k =  5 ; centroids =  [[  1  64 128 191 255]\n",
      " [  0  45  91 137 183]\n",
      " [  0  47  95 143 191]]\n"
     ]
    }
   ],
   "source": [
    "centroids = []\n",
    "for a in range(3):\n",
    "    centroids.append(np.linspace(np.amin(original[:,:,a]),\n",
    "            np.amax(original[:,:,a]), num = k).astype(int))\n",
    "centroids = np.asarray(centroids)\n",
    "\n",
    "print(\"k = \", k, \"; centroids = \", centroids)"
   ]
  },
  {
   "cell_type": "code",
   "execution_count": 35,
   "metadata": {},
   "outputs": [],
   "source": [
    "def getDistances(array, centroids):\n",
    "    \"\"\" distance -> (channel, right now this is extra... why!?, width, height, centroids)  \"\"\"\n",
    "    \n",
    "    distances = [[],[],[]]\n",
    "    \n",
    "    for a in range(3):\n",
    "        # for each channel, we calculate the difference between each pixel and the centroids\n",
    "        temp_dists = np.zeros((height, width, k))\n",
    "        \n",
    "        for b in range(k):\n",
    "            \n",
    "            #print(\"temp_dists : \", np.shape(temp_dists), \",\", np.shape(temp_dists[:,:,b]))\n",
    "            #print(\"array      : \", np.shape(array), \",\", np.shape(array[:,:,a]))\n",
    "            #print(\"centroids  : \", np.shape(centroids), \"       ,\", np.shape(centroids[a,b]))\n",
    "            temp_dists[:,:,b] = np.abs(array[:,:,a] - centroids[a,b])\n",
    "            \n",
    "            distances[a].append(temp_dists)\n",
    "        \n",
    "    distances = np.asarray(distances).astype(int)\n",
    "    \n",
    "    return distances"
   ]
  },
  {
   "cell_type": "code",
   "execution_count": 36,
   "metadata": {},
   "outputs": [
    {
     "name": "stdout",
     "output_type": "stream",
     "text": [
      "distances :  (3, 5, 100, 100, 5)\n"
     ]
    }
   ],
   "source": [
    "distances = getDistances(original, centroids)\n",
    "\n",
    "print(\"distances : \", np.shape(distances))"
   ]
  },
  {
   "cell_type": "code",
   "execution_count": null,
   "metadata": {},
   "outputs": [],
   "source": [
    "current = np.zeros((height, width, 3))\n",
    "\n",
    "def closest_centroid(distances, centroids):\n",
    "    for a in range(len(centroids)):\n",
    "        if distances[a] == np.amin(distances):\n",
    "            return centroids[a]\n",
    "        \n",
    "    return False\n",
    "\n",
    "for yy in range(height):\n",
    "    for xx in range(width):\n",
    "        current[yy,xx] = closest_centroid(distances[yy,xx,:], centroids)\n",
    "        \n",
    "f, (ax1, ax2) = plt.subplots(1, 2, figsize = (10, 5))\n",
    "ax1.imshow(original, cmap = \"gray\", aspect = \"equal\")\n",
    "ax2.imshow(current, cmap = \"gray\",aspect = \"equal\")"
   ]
  },
  {
   "cell_type": "code",
   "execution_count": null,
   "metadata": {},
   "outputs": [],
   "source": []
  }
 ],
 "metadata": {
  "kernelspec": {
   "display_name": "ohm-ambilight",
   "language": "python",
   "name": "ohm-ambilight"
  },
  "language_info": {
   "codemirror_mode": {
    "name": "ipython",
    "version": 3
   },
   "file_extension": ".py",
   "mimetype": "text/x-python",
   "name": "python",
   "nbconvert_exporter": "python",
   "pygments_lexer": "ipython3",
   "version": "3.8.3"
  }
 },
 "nbformat": 4,
 "nbformat_minor": 4
}
