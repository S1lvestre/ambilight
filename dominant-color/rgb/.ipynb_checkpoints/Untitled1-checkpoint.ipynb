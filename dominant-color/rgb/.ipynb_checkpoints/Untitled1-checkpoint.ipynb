{
 "cells": [
  {
   "cell_type": "code",
   "execution_count": 5,
   "metadata": {},
   "outputs": [],
   "source": [
    "import numpy as np\n",
    "import matplotlib.pyplot as plt\n",
    "\n",
    "import cv2"
   ]
  },
  {
   "cell_type": "code",
   "execution_count": 6,
   "metadata": {},
   "outputs": [],
   "source": [
    "def importImage(imdir):\n",
    "    \n",
    "    im_array = plt.imread(imdir)\n",
    "    im_array = (im_array * 255).astype(np.float32)\n",
    "    im_array = im_array[:,:,:3]\n",
    "\n",
    "    height = np.shape(im_array)[0]\n",
    "    width = np.shape(im_array)[1]\n",
    "    \n",
    "    channels = np.shape(im_array)[2]\n",
    "    \n",
    "    return im_array, width, height, channels"
   ]
  },
  {
   "cell_type": "code",
   "execution_count": 7,
   "metadata": {},
   "outputs": [
    {
     "name": "stdout",
     "output_type": "stream",
     "text": [
      "image :  (100, 100, 3)\n"
     ]
    }
   ],
   "source": [
    "image_dir = \"./triangles-rgb.png\"\n",
    "image0, width, height, channels = importImage(image_dir)\n",
    "print(\"image : \", np.shape(image0))"
   ]
  },
  {
   "cell_type": "code",
   "execution_count": 8,
   "metadata": {},
   "outputs": [
    {
     "name": "stdout",
     "output_type": "stream",
     "text": [
      "data :  (10000, 3)\n"
     ]
    }
   ],
   "source": [
    "data = np.reshape(image0, (height*width, 3))\n",
    "data0 = np.copy( data )\n",
    "print(\"data : \", np.shape(data0))"
   ]
  },
  {
   "cell_type": "code",
   "execution_count": null,
   "metadata": {},
   "outputs": [],
   "source": [
    "cv2.kmeans(data, 3, (cv.TERM_CRITERIA_MAX_ITER, 3, 0), )"
   ]
  }
 ],
 "metadata": {
  "kernelspec": {
   "display_name": "ohm-ambilight",
   "language": "python",
   "name": "ohm-ambilight"
  },
  "language_info": {
   "codemirror_mode": {
    "name": "ipython",
    "version": 3
   },
   "file_extension": ".py",
   "mimetype": "text/x-python",
   "name": "python",
   "nbconvert_exporter": "python",
   "pygments_lexer": "ipython3",
   "version": "3.8.3"
  }
 },
 "nbformat": 4,
 "nbformat_minor": 4
}
